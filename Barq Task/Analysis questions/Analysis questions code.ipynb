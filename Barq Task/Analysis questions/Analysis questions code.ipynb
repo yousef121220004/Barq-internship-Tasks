{
 "cells": [
  {
   "cell_type": "code",
   "execution_count": 23,
   "id": "6f28136f",
   "metadata": {},
   "outputs": [
    {
     "name": "stdout",
     "output_type": "stream",
     "text": [
      "       IP Address    Subnet Mask\n",
      "0    192.168.1.24  255.255.255.0\n",
      "1        10.1.5.4  255.255.254.0\n",
      "2    172.16.20.33  255.255.255.0\n",
      "3   192.168.100.7  255.255.252.0\n",
      "4      10.0.3.112  255.255.255.0\n",
      "5    172.16.1.200  255.255.254.0\n",
      "6       10.2.1.56  255.255.252.0\n",
      "7     192.168.2.3  255.255.255.0\n",
      "8     172.16.50.1  255.255.252.0\n",
      "9       10.10.0.5  255.255.254.0\n",
      "10   192.168.3.14  255.255.255.0\n",
      "11      10.20.4.6  255.255.252.0\n",
      "12     172.16.8.9  255.255.254.0\n",
      "13       10.4.3.2  255.255.255.0\n",
      "14  192.168.20.44  255.255.252.0\n",
      "15   172.16.40.22  255.255.255.0\n",
      "16     10.0.0.200  255.255.254.0\n",
      "17   192.168.10.1  255.255.255.0\n",
      "18   172.16.15.15  255.255.254.0\n",
      "19       10.3.3.9  255.255.252.0\n",
      "20    192.168.4.5  255.255.255.0\n",
      "21      10.50.2.7  255.255.255.0\n",
      "22   172.16.60.30  255.255.252.0\n",
      "23    192.168.7.8  255.255.254.0\n",
      "24     10.15.5.50  255.255.252.0\n"
     ]
    }
   ],
   "source": [
    "import pandas as pd\n",
    "import ipaddress\n",
    "\n",
    "# Read the excel file : \n",
    "df = pd.read_excel('ip_data.xlsx')\n",
    "print(df)\n"
   ]
  },
  {
   "cell_type": "code",
   "execution_count": 25,
   "id": "fea39736",
   "metadata": {},
   "outputs": [],
   "source": [
    "def analyze_subnet(row):\n",
    "    ip_str = row['IP Address']\n",
    "    subnet_mask = row['Subnet Mask']\n",
    "    net = ipaddress.IPv4Network(f\"{ip_str}/{subnet_mask}\", strict=False)\n",
    "    return pd.Series({\n",
    "        'CIDR': net.with_prefixlen,\n",
    "        'Network': str(net.network_address),\n",
    "        'Broadcast': str(net.broadcast_address),\n",
    "        'UsableHosts': net.num_addresses - 2\n",
    "    })\n",
    "\n",
    "results = df.apply(analyze_subnet, axis=1)\n",
    "df = pd.concat([df, results], axis=1)\n"
   ]
  },
  {
   "cell_type": "code",
   "execution_count": 26,
   "id": "efb8b36a",
   "metadata": {},
   "outputs": [
    {
     "name": "stdout",
     "output_type": "stream",
     "text": [
      "IP Address        192.168.100.7\n",
      "Subnet Mask       255.255.252.0\n",
      "CIDR           192.168.100.0/22\n",
      "Network           192.168.100.0\n",
      "Broadcast       192.168.103.255\n",
      "UsableHosts                1022\n",
      "Name: 3, dtype: object\n",
      "CIDR           10.15.4.0/22\n",
      "UsableHosts            1022\n",
      "Name: 4, dtype: object\n"
     ]
    }
   ],
   "source": [
    "# Which subnet has the most hosts ? \n",
    "subnet_summary = df.groupby('CIDR')['UsableHosts'].sum().reset_index()\n",
    "\n",
    "most_hosts = df.loc[df['UsableHosts'].idxmax()]\n",
    "print(most_hosts)\n",
    "\n",
    "most_hosts_subnet = subnet_summary.loc[subnet_summary['UsableHosts'].idxmax()]\n",
    "print(most_hosts_subnet)\n"
   ]
  },
  {
   "cell_type": "code",
   "execution_count": 27,
   "id": "a157bb99",
   "metadata": {},
   "outputs": [
    {
     "name": "stdout",
     "output_type": "stream",
     "text": [
      "[]\n"
     ]
    }
   ],
   "source": [
    "# Are there any overlapping subnets ? \n",
    "\n",
    "all_networks = [ipaddress.IPv4Network(cidr) for cidr in df['CIDR']]\n",
    "overlaps = []\n",
    "\n",
    "for i, net1 in enumerate(all_networks):\n",
    "    for j, net2 in enumerate(all_networks):\n",
    "        if i != j and (net1.overlaps(net2)):\n",
    "            overlaps.append((net1.with_prefixlen, net2.with_prefixlen))\n",
    "\n",
    "print(overlaps)\n"
   ]
  },
  {
   "cell_type": "code",
   "execution_count": 28,
   "id": "e0a82ec0",
   "metadata": {},
   "outputs": [
    {
     "name": "stdout",
     "output_type": "stream",
     "text": [
      "Smallest subnet: IP Address        192.168.1.24\n",
      "Subnet Mask      255.255.255.0\n",
      "CIDR            192.168.1.0/24\n",
      "Network            192.168.1.0\n",
      "Broadcast        192.168.1.255\n",
      "UsableHosts                254\n",
      "PrefixLength                24\n",
      "Name: 0, dtype: object\n",
      "Largest subnet: IP Address         192.168.100.7\n",
      "Subnet Mask        255.255.252.0\n",
      "CIDR            192.168.100.0/22\n",
      "Network            192.168.100.0\n",
      "Broadcast        192.168.103.255\n",
      "UsableHosts                 1022\n",
      "PrefixLength                  22\n",
      "Name: 3, dtype: object\n"
     ]
    }
   ],
   "source": [
    "# What is the smallest and largest subnet ?\n",
    "\n",
    "df['PrefixLength'] = df['CIDR'].apply(lambda x: int(x.split('/')[1]))\n",
    "smallest = df.loc[df['PrefixLength'].idxmax()]  # smallest block = largest prefix length\n",
    "largest  = df.loc[df['PrefixLength'].idxmin()]  # largest block = smallest prefix length\n",
    "print(\"Smallest subnet:\", smallest)\n",
    "print(\"Largest subnet:\", largest)\n"
   ]
  },
  {
   "cell_type": "code",
   "execution_count": null,
   "id": "e0a3785f",
   "metadata": {},
   "outputs": [],
   "source": []
  }
 ],
 "metadata": {
  "kernelspec": {
   "display_name": "Python 3 (ipykernel)",
   "language": "python",
   "name": "python3"
  },
  "language_info": {
   "codemirror_mode": {
    "name": "ipython",
    "version": 3
   },
   "file_extension": ".py",
   "mimetype": "text/x-python",
   "name": "python",
   "nbconvert_exporter": "python",
   "pygments_lexer": "ipython3",
   "version": "3.11.5"
  }
 },
 "nbformat": 4,
 "nbformat_minor": 5
}
